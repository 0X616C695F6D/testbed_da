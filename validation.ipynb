{
 "cells": [
  {
   "cell_type": "code",
   "execution_count": null,
   "id": "29c19352-8e37-4e17-a240-9e0d6044eb36",
   "metadata": {},
   "outputs": [],
   "source": [
    "\"\"\"\n",
    "Compute the base case for the given constellations & their SNR-level.\n",
    "If the performance of the base case is poor, domain adaptation should not\n",
    "be expected to perform either. So this must pass a threshold first.\n",
    "\"\"\"\n",
    "\n"
   ]
  }
 ],
 "metadata": {
  "kernelspec": {
   "display_name": "Python 3 (ipykernel)",
   "language": "python",
   "name": "python3"
  },
  "language_info": {
   "codemirror_mode": {
    "name": "ipython",
    "version": 3
   },
   "file_extension": ".py",
   "mimetype": "text/x-python",
   "name": "python",
   "nbconvert_exporter": "python",
   "pygments_lexer": "ipython3",
   "version": "3.12.4"
  }
 },
 "nbformat": 4,
 "nbformat_minor": 5
}
